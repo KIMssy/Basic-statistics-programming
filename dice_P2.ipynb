{
  "nbformat": 4,
  "nbformat_minor": 0,
  "metadata": {
    "colab": {
      "provenance": [],
      "collapsed_sections": [],
      "authorship_tag": "ABX9TyPYbkEfa2Ji7bchsyMrSSsI",
      "include_colab_link": true
    },
    "kernelspec": {
      "name": "python3",
      "display_name": "Python 3"
    },
    "language_info": {
      "name": "python"
    }
  },
  "cells": [
    {
      "cell_type": "markdown",
      "metadata": {
        "id": "view-in-github",
        "colab_type": "text"
      },
      "source": [
        "<a href=\"https://colab.research.google.com/github/KIMssy/Basic-statistics-programming/blob/main/dice_P2.ipynb\" target=\"_parent\"><img src=\"https://colab.research.google.com/assets/colab-badge.svg\" alt=\"Open In Colab\"/></a>"
      ]
    },
    {
      "cell_type": "code",
      "execution_count": null,
      "metadata": {
        "id": "8YjXqZbrV2Ez"
      },
      "outputs": [],
      "source": [
        "# 이거나: a 또는 b"
      ]
    },
    {
      "cell_type": "code",
      "source": [
        "#예제 8-16"
      ],
      "metadata": {
        "id": "bSEGG5hFWpEi"
      },
      "execution_count": null,
      "outputs": []
    },
    {
      "cell_type": "code",
      "source": [
        "import math"
      ],
      "metadata": {
        "id": "XQItq-lIW6yy"
      },
      "execution_count": 2,
      "outputs": []
    },
    {
      "cell_type": "code",
      "source": [
        "S = {1,2,3,4,5,6}\n",
        "print(len(S))"
      ],
      "metadata": {
        "colab": {
          "base_uri": "https://localhost:8080/"
        },
        "id": "0spTGbQNXcFa",
        "outputId": "dcbcca30-ecfa-49e1-e7a4-d119640d2f60"
      },
      "execution_count": 4,
      "outputs": [
        {
          "output_type": "stream",
          "name": "stdout",
          "text": [
            "6\n"
          ]
        }
      ]
    },
    {
      "cell_type": "code",
      "source": [
        "def n(event):\n",
        "  return len(event)\n",
        "\n",
        "A={2,4,6}\n",
        "B={5,6}"
      ],
      "metadata": {
        "id": "qhMDRX3cXg2R"
      },
      "execution_count": 7,
      "outputs": []
    },
    {
      "cell_type": "code",
      "source": [
        "n(S)"
      ],
      "metadata": {
        "colab": {
          "base_uri": "https://localhost:8080/"
        },
        "id": "gYqOT_-LXsGq",
        "outputId": "a7558868-8404-4efe-c9fe-d9b3ff6cf218"
      },
      "execution_count": 6,
      "outputs": [
        {
          "output_type": "execute_result",
          "data": {
            "text/plain": [
              "6"
            ]
          },
          "metadata": {},
          "execution_count": 6
        }
      ]
    },
    {
      "cell_type": "code",
      "source": [
        "P = n(A)/n(S)\n",
        "print(P)"
      ],
      "metadata": {
        "colab": {
          "base_uri": "https://localhost:8080/"
        },
        "id": "yX0N0Xq-XsMi",
        "outputId": "e72533a0-de68-4052-ce7b-a1499f31614e"
      },
      "execution_count": 9,
      "outputs": [
        {
          "output_type": "stream",
          "name": "stdout",
          "text": [
            "0.5\n"
          ]
        }
      ]
    },
    {
      "cell_type": "code",
      "source": [
        "#8-16"
      ],
      "metadata": {
        "id": "67bjONQ5XsSK"
      },
      "execution_count": null,
      "outputs": []
    },
    {
      "cell_type": "code",
      "source": [
        "C = {1, 2}\n",
        "D = {5, 6}\n",
        "CD = {}   #공분산"
      ],
      "metadata": {
        "id": "wJdjWv4KYOt6"
      },
      "execution_count": 14,
      "outputs": []
    },
    {
      "cell_type": "code",
      "source": [
        "p1 = n(C)"
      ],
      "metadata": {
        "id": "h-4udd-7Zvvq"
      },
      "execution_count": null,
      "outputs": []
    },
    {
      "cell_type": "code",
      "source": [
        "#8-17"
      ],
      "metadata": {
        "id": "W7c1Qr6rYe3p"
      },
      "execution_count": null,
      "outputs": []
    },
    {
      "cell_type": "code",
      "source": [
        "S = combination_count(5, 2)\n",
        "A = combination_count(8, 2)\n",
        "Pc = 1- A/S\n",
        "print(Pc)"
      ],
      "metadata": {
        "colab": {
          "base_uri": "https://localhost:8080/"
        },
        "id": "hkiIiAbhZ4vK",
        "outputId": "8bcf358f-f30f-42cd-9c1b-17e1162b033d"
      },
      "execution_count": 17,
      "outputs": [
        {
          "output_type": "stream",
          "name": "stdout",
          "text": [
            "-1.7999999999999998\n"
          ]
        }
      ]
    },
    {
      "cell_type": "code",
      "source": [
        "S =[1,2,3,4,5,6,7,8,9,10,11,12,13,14,15]\n",
        "B =[1,3,5,7,9,11,13,15]"
      ],
      "metadata": {
        "id": "LtyCmcBdaOvC"
      },
      "execution_count": 20,
      "outputs": []
    },
    {
      "cell_type": "code",
      "source": [
        "from itertools import combinations"
      ],
      "metadata": {
        "id": "8eqSk1OJay6i"
      },
      "execution_count": 23,
      "outputs": []
    },
    {
      "cell_type": "code",
      "source": [
        "print(list(combinations(S, 2)))\n",
        "print(len(combinations(S, 2)))\n",
        "\n",
        "print(list(combinations(B, 2)))\n",
        "print(len(list(combinations(B, 2)))"
      ],
      "metadata": {
        "colab": {
          "base_uri": "https://localhost:8080/",
          "height": 136
        },
        "id": "N3qaTi3pbATC",
        "outputId": "f584e2b1-343a-4a1c-ec1a-79489410d067"
      },
      "execution_count": 24,
      "outputs": [
        {
          "output_type": "error",
          "ename": "SyntaxError",
          "evalue": "ignored",
          "traceback": [
            "\u001b[0;36m  File \u001b[0;32m\"<ipython-input-24-740f007f3d1f>\"\u001b[0;36m, line \u001b[0;32m5\u001b[0m\n\u001b[0;31m    print(len(list(combinations(B, 2)))\u001b[0m\n\u001b[0m                                       ^\u001b[0m\n\u001b[0;31mSyntaxError\u001b[0m\u001b[0;31m:\u001b[0m unexpected EOF while parsing\n"
          ]
        }
      ]
    },
    {
      "cell_type": "code",
      "source": [
        "P(B) = len(list(combinations(B,2) ) ) / len(list(combinations(S, 2)))\n",
        "P_A =1 - P_B\n",
        "print(P_A)"
      ],
      "metadata": {
        "colab": {
          "base_uri": "https://localhost:8080/",
          "height": 136
        },
        "id": "0m4rZj0QbkfD",
        "outputId": "15ebc52b-d789-4ca8-9dd4-e0b0ad9ed979"
      },
      "execution_count": 25,
      "outputs": [
        {
          "output_type": "error",
          "ename": "SyntaxError",
          "evalue": "ignored",
          "traceback": [
            "\u001b[0;36m  File \u001b[0;32m\"<ipython-input-25-923086be4dce>\"\u001b[0;36m, line \u001b[0;32m1\u001b[0m\n\u001b[0;31m    P(B) = len(list(combinations(B,2) ) ) / len(list(combinations(S, 2)))\u001b[0m\n\u001b[0m                                                                         ^\u001b[0m\n\u001b[0;31mSyntaxError\u001b[0m\u001b[0;31m:\u001b[0m can't assign to function call\n"
          ]
        }
      ]
    }
  ]
}