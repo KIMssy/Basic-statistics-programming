{
  "nbformat": 4,
  "nbformat_minor": 0,
  "metadata": {
    "colab": {
      "provenance": [],
      "collapsed_sections": []
    },
    "kernelspec": {
      "name": "python3",
      "display_name": "Python 3"
    },
    "language_info": {
      "name": "python"
    }
  },
  "cells": [
    {
      "cell_type": "code",
      "source": [
        "import pandas as pd\n",
        "import numpy as np\n",
        "import matplotlib.pyplot as plt"
      ],
      "metadata": {
        "id": "82sigjR54ss8"
      },
      "execution_count": 4,
      "outputs": []
    },
    {
      "cell_type": "code",
      "source": [
        "def map_2D(x1,y1,z1, x2,y2,z2, x3,y3,z3, x4,y4,z4, x_input,y_input):\n",
        "    h1= (y_input - y1)/(y2-y1)\n",
        "    h2= (y2 - y_input)/(y2-y1)\n",
        "    M = h1 * z2 * h2 * z1\n",
        "    print(\"h1: \", h1,\"h2: \",h2,\"M: \",M)\n",
        "    h3= (y_input - y3)/(y4 - y3)\n",
        "    h4= (y4 - y_input)/(y4 - y3)\n",
        "    N = h4 * z3 * h3 * z4 \n",
        "    print(\"h3: \", h3,\"h4: \", h4,\"N: \",N)      \n",
        "    w1= (x_input - x1)/(x3 - x1)\n",
        "    w2= (x3 - x_input)/(x3 - x1)\n",
        "    P = M*w2 + N*w1\n",
        "    print(\"w1: \", w1,\"w2: \", w2,\"P: \",P)\n",
        "    return P"
      ],
      "metadata": {
        "id": "U2vsgVKf5f98"
      },
      "execution_count": 7,
      "outputs": []
    },
    {
      "cell_type": "code",
      "source": [
        "result = map_2D(0,0,2, 0,1,4, 1,0,3, 1,1,0, 0,1)\n",
        "print(result)"
      ],
      "metadata": {
        "colab": {
          "base_uri": "https://localhost:8080/"
        },
        "id": "3gbZIqjp5iBr",
        "outputId": "b321abb9-e060-44d2-a5e5-9eff14a0e286"
      },
      "execution_count": 8,
      "outputs": [
        {
          "output_type": "stream",
          "name": "stdout",
          "text": [
            "h1:  1.0 h2:  0.0 M:  0.0\n",
            "h3:  1.0 h4:  0.0 N:  0.0\n",
            "w1:  0.0 w2:  1.0 P:  0.0\n",
            "0.0\n"
          ]
        }
      ]
    },
    {
      "cell_type": "code",
      "source": [
        "X=[0,2,4,6]\n",
        "Y=[0,2,4,6]\n",
        "Z= [ [1,2,3,4],\n",
        "    [5,6,7,8],\n",
        "    [9,10,11,12],\n",
        "    [13,14,15,16],\n",
        "    ]"
      ],
      "metadata": {
        "id": "6vPvjFrF6eNk"
      },
      "execution_count": 10,
      "outputs": []
    },
    {
      "cell_type": "code",
      "source": [
        "def find_x_index(X, input_x):\n",
        "  for i in range(0, len(X)-1):\n",
        "    if( (X[i]<=input_x) & (X[i+1]>input_x) ):\n",
        "      x_min = i\n",
        "      x_max = i+1\n",
        "      print(x_min,\"-\",x_max)\n",
        "  return x_min, x_max\n",
        "\n",
        "def find_y_index(Y, input_y):\n",
        "  for i in range(0, len(Y)-1):\n",
        "    if( (Y[i]<=input_y) & (Y[i+1]>input_y) ):\n",
        "      y_min = i\n",
        "      y_max = i+1\n",
        "      print(y_min,\"-\",y_max)\n",
        "  return y_min, y_max"
      ],
      "metadata": {
        "id": "acGyLq2f4u8c"
      },
      "execution_count": 11,
      "outputs": []
    },
    {
      "cell_type": "code",
      "source": [
        "input_x= 2\n",
        "input_y= 2\n",
        "xmin,xmax = find_x_index(X, input_x)\n",
        "ymin,ymax = find_y_index(Y, input_y)"
      ],
      "metadata": {
        "colab": {
          "base_uri": "https://localhost:8080/"
        },
        "id": "D00B7d-U5G7L",
        "outputId": "c33ee41a-2d62-4bef-be0b-744780a06700"
      },
      "execution_count": 12,
      "outputs": [
        {
          "output_type": "stream",
          "name": "stdout",
          "text": [
            "1 - 2\n",
            "1 - 2\n"
          ]
        }
      ]
    },
    {
      "cell_type": "code",
      "source": [
        "input_x= 2.2\n",
        "input_y= 4.3\n",
        "xmin_index,xmax_index = find_x_index(X, input_x)\n",
        "ymin_index,ymax_index = find_y_index(Y, input_y)\n",
        "\n",
        "data = map_2D(X[xmin_index],Y[ymin_index],Z[xmin_index][ymin_index],\n",
        "              X[xmin_index],Y[ymax_index],Z[xmin_index][ymax_index],\n",
        "              X[xmax_index],Y[ymin_index],Z[xmax_index][ymin_index],\n",
        "              X[xmax_index],Y[ymax_index],Z[xmax_index][ymax_index],\n",
        "              input_x, input_y)\n",
        "\n",
        "print(data)"
      ],
      "metadata": {
        "colab": {
          "base_uri": "https://localhost:8080/"
        },
        "id": "6rj09Iu960yk",
        "outputId": "9434e66c-93db-4a34-d1ea-f068c2d76057"
      },
      "execution_count": 15,
      "outputs": [
        {
          "output_type": "stream",
          "name": "stdout",
          "text": [
            "1 - 2\n",
            "2 - 3\n",
            "h1:  0.1499999999999999 h2:  0.8500000000000001 M:  7.139999999999997\n",
            "h3:  0.1499999999999999 h4:  0.8500000000000001 N:  16.82999999999999\n",
            "w1:  0.10000000000000009 w2:  0.8999999999999999 P:  8.108999999999998\n",
            "8.108999999999998\n"
          ]
        }
      ]
    }
  ]
}