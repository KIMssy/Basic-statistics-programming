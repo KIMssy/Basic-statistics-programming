{
  "nbformat": 4,
  "nbformat_minor": 0,
  "metadata": {
    "colab": {
      "provenance": [],
      "collapsed_sections": [],
      "authorship_tag": "ABX9TyP9qgVViLtncnCDio5159rh",
      "include_colab_link": true
    },
    "kernelspec": {
      "name": "python3",
      "display_name": "Python 3"
    },
    "language_info": {
      "name": "python"
    }
  },
  "cells": [
    {
      "cell_type": "markdown",
      "metadata": {
        "id": "view-in-github",
        "colab_type": "text"
      },
      "source": [
        "<a href=\"https://colab.research.google.com/github/KIMssy/Basic-statistics-programming/blob/main/moving_average_Employment_by_industry.ipynb\" target=\"_parent\"><img src=\"https://colab.research.google.com/assets/colab-badge.svg\" alt=\"Open In Colab\"/></a>"
      ]
    },
    {
      "cell_type": "code",
      "execution_count": 1,
      "metadata": {
        "id": "j6fGOMPXHsLG"
      },
      "outputs": [],
      "source": [
        "import pandas as pd\n",
        "import numpy as np\n",
        "import matplotlib.pyplot as plt"
      ]
    },
    {
      "cell_type": "code",
      "source": [
        "data = pd.read_csv('/content/Employment.csv',sep=',',encoding='euc-kr')"
      ],
      "metadata": {
        "id": "kCYEOVaDJb98"
      },
      "execution_count": 11,
      "outputs": []
    },
    {
      "cell_type": "code",
      "source": [
        "print(data)"
      ],
      "metadata": {
        "colab": {
          "base_uri": "https://localhost:8080/"
        },
        "id": "NcX9sPStJ9mU",
        "outputId": "8ef43b21-ca6c-48b8-88ce-2ccc47434473"
      },
      "execution_count": 12,
      "outputs": [
        {
          "output_type": "stream",
          "name": "stdout",
          "text": [
            "          시점  total  education\n",
            "0   2013. 01  24287       1710\n",
            "1   2013. 02  24215       1681\n",
            "2   2013. 03  24736       1716\n",
            "3   2013. 04  25322       1745\n",
            "4   2013. 05  25610       1774\n",
            "..       ...    ...        ...\n",
            "91  2020. 08  27085       1793\n",
            "92  2020. 09  27012       1768\n",
            "93  2020. 10  27088       1772\n",
            "94  2020. 11  27241       1785\n",
            "95  2020. 12  26526       1777\n",
            "\n",
            "[96 rows x 3 columns]\n"
          ]
        }
      ]
    },
    {
      "cell_type": "code",
      "source": [
        "data.info()"
      ],
      "metadata": {
        "colab": {
          "base_uri": "https://localhost:8080/"
        },
        "id": "gbi-ufypaBgS",
        "outputId": "7c73cfd2-9ac5-496c-e767-d9fc6ec5885e"
      },
      "execution_count": 13,
      "outputs": [
        {
          "output_type": "stream",
          "name": "stdout",
          "text": [
            "<class 'pandas.core.frame.DataFrame'>\n",
            "RangeIndex: 96 entries, 0 to 95\n",
            "Data columns (total 3 columns):\n",
            " #   Column     Non-Null Count  Dtype \n",
            "---  ------     --------------  ----- \n",
            " 0   시점         96 non-null     object\n",
            " 1   total      96 non-null     int64 \n",
            " 2   education  96 non-null     int64 \n",
            "dtypes: int64(2), object(1)\n",
            "memory usage: 2.4+ KB\n"
          ]
        }
      ]
    },
    {
      "cell_type": "code",
      "source": [
        "def get_employment(i):\n",
        "    z = data['education'][i]  \n",
        "    return z"
      ],
      "metadata": {
        "id": "YGz_QH4GJDxM"
      },
      "execution_count": 14,
      "outputs": []
    },
    {
      "cell_type": "code",
      "source": [
        "def mov_avg_filter(x_n, x_meas):\n",
        "    \"\"\"Calculate average sonar using a moving average filter (batch expression).\"\"\"\n",
        "    n = len(x_n)\n",
        "    for i in range(n-1): #인덱스는 0에서부터 시작하기 때문에 n-1을 해야함\n",
        "      x_n[i] = x_n[i+1]\n",
        "      x_n[n-1] = x_meas\n",
        "      x_avg = np.mean(x_n)\n",
        "\n",
        "    return x_avg, x_n\n",
        "\n",
        "    #이동평균필터"
      ],
      "metadata": {
        "id": "q8avagi6JDzU"
      },
      "execution_count": 15,
      "outputs": []
    },
    {
      "cell_type": "code",
      "source": [
        "len(data)"
      ],
      "metadata": {
        "colab": {
          "base_uri": "https://localhost:8080/"
        },
        "id": "6isEzUDwevbr",
        "outputId": "0fd91e86-35a1-4465-f41e-cc8e53dd4580"
      },
      "execution_count": 16,
      "outputs": [
        {
          "output_type": "execute_result",
          "data": {
            "text/plain": [
              "96"
            ]
          },
          "metadata": {},
          "execution_count": 16
        }
      ]
    },
    {
      "cell_type": "code",
      "source": [
        "#input paramoters\n",
        "\n",
        "n_samples = 96 #n_sample은 그대로, 데이터 갯수여서\n",
        "\n",
        "n=10\n",
        "time_end = 10"
      ],
      "metadata": {
        "id": "RM_MtvK9JD1X"
      },
      "execution_count": 17,
      "outputs": []
    },
    {
      "cell_type": "code",
      "source": [
        "dt = time_end / n_samples\n",
        "time = np.arange(0, time_end, dt)\n",
        "x_meas_save = np.zeros(n_samples)\n",
        "x_avg_save = np.zeros(n_samples)"
      ],
      "metadata": {
        "id": "b6EGMU0CMcu-"
      },
      "execution_count": 18,
      "outputs": []
    },
    {
      "cell_type": "code",
      "source": [
        "print(time)\n",
        "print(x_meas_save)\n",
        "print(x_avg_save)"
      ],
      "metadata": {
        "colab": {
          "base_uri": "https://localhost:8080/"
        },
        "id": "LrCy1nfFZoOs",
        "outputId": "b19556d6-2591-4430-ef5f-95d773745a7f"
      },
      "execution_count": 19,
      "outputs": [
        {
          "output_type": "stream",
          "name": "stdout",
          "text": [
            "[0.         0.10416667 0.20833333 0.3125     0.41666667 0.52083333\n",
            " 0.625      0.72916667 0.83333333 0.9375     1.04166667 1.14583333\n",
            " 1.25       1.35416667 1.45833333 1.5625     1.66666667 1.77083333\n",
            " 1.875      1.97916667 2.08333333 2.1875     2.29166667 2.39583333\n",
            " 2.5        2.60416667 2.70833333 2.8125     2.91666667 3.02083333\n",
            " 3.125      3.22916667 3.33333333 3.4375     3.54166667 3.64583333\n",
            " 3.75       3.85416667 3.95833333 4.0625     4.16666667 4.27083333\n",
            " 4.375      4.47916667 4.58333333 4.6875     4.79166667 4.89583333\n",
            " 5.         5.10416667 5.20833333 5.3125     5.41666667 5.52083333\n",
            " 5.625      5.72916667 5.83333333 5.9375     6.04166667 6.14583333\n",
            " 6.25       6.35416667 6.45833333 6.5625     6.66666667 6.77083333\n",
            " 6.875      6.97916667 7.08333333 7.1875     7.29166667 7.39583333\n",
            " 7.5        7.60416667 7.70833333 7.8125     7.91666667 8.02083333\n",
            " 8.125      8.22916667 8.33333333 8.4375     8.54166667 8.64583333\n",
            " 8.75       8.85416667 8.95833333 9.0625     9.16666667 9.27083333\n",
            " 9.375      9.47916667 9.58333333 9.6875     9.79166667 9.89583333]\n",
            "[0. 0. 0. 0. 0. 0. 0. 0. 0. 0. 0. 0. 0. 0. 0. 0. 0. 0. 0. 0. 0. 0. 0. 0.\n",
            " 0. 0. 0. 0. 0. 0. 0. 0. 0. 0. 0. 0. 0. 0. 0. 0. 0. 0. 0. 0. 0. 0. 0. 0.\n",
            " 0. 0. 0. 0. 0. 0. 0. 0. 0. 0. 0. 0. 0. 0. 0. 0. 0. 0. 0. 0. 0. 0. 0. 0.\n",
            " 0. 0. 0. 0. 0. 0. 0. 0. 0. 0. 0. 0. 0. 0. 0. 0. 0. 0. 0. 0. 0. 0. 0. 0.]\n",
            "[0. 0. 0. 0. 0. 0. 0. 0. 0. 0. 0. 0. 0. 0. 0. 0. 0. 0. 0. 0. 0. 0. 0. 0.\n",
            " 0. 0. 0. 0. 0. 0. 0. 0. 0. 0. 0. 0. 0. 0. 0. 0. 0. 0. 0. 0. 0. 0. 0. 0.\n",
            " 0. 0. 0. 0. 0. 0. 0. 0. 0. 0. 0. 0. 0. 0. 0. 0. 0. 0. 0. 0. 0. 0. 0. 0.\n",
            " 0. 0. 0. 0. 0. 0. 0. 0. 0. 0. 0. 0. 0. 0. 0. 0. 0. 0. 0. 0. 0. 0. 0. 0.]\n"
          ]
        }
      ]
    },
    {
      "cell_type": "code",
      "source": [
        "for i in range(n_samples):\n",
        "  x_meas = get_employment(i)\n",
        "  if i == 0:\n",
        "      x_avg, x_n = x_meas, x_meas * np.ones(n)  #x_meas * np.ones(n):배열이다 / 값이 얼마인지 보기 /x_meas * np.ones(n):의미파악 중요\n",
        "      print(x_meas * np.ones(n))\n",
        "  else:\n",
        "    x_avg, x_n = mov_avg_filter(x_n, x_meas)\n",
        "    print(x_n)\n",
        "  x_meas_save[i] = x_meas\n",
        "  x_avg_save[i] = x_avg"
      ],
      "metadata": {
        "id": "LpoabEUlMc1V",
        "colab": {
          "base_uri": "https://localhost:8080/"
        },
        "outputId": "96e665cc-a23f-438d-a796-1b08d3fd7de3"
      },
      "execution_count": 20,
      "outputs": [
        {
          "output_type": "stream",
          "name": "stdout",
          "text": [
            "[1710. 1710. 1710. 1710. 1710. 1710. 1710. 1710. 1710. 1710.]\n",
            "[1710. 1710. 1710. 1710. 1710. 1710. 1710. 1710. 1681. 1681.]\n",
            "[1710. 1710. 1710. 1710. 1710. 1710. 1710. 1681. 1716. 1716.]\n",
            "[1710. 1710. 1710. 1710. 1710. 1710. 1681. 1716. 1745. 1745.]\n",
            "[1710. 1710. 1710. 1710. 1710. 1681. 1716. 1745. 1774. 1774.]\n",
            "[1710. 1710. 1710. 1710. 1681. 1716. 1745. 1774. 1786. 1786.]\n",
            "[1710. 1710. 1710. 1681. 1716. 1745. 1774. 1786. 1813. 1813.]\n",
            "[1710. 1710. 1681. 1716. 1745. 1774. 1786. 1813. 1811. 1811.]\n",
            "[1710. 1681. 1716. 1745. 1774. 1786. 1813. 1811. 1794. 1794.]\n",
            "[1681. 1716. 1745. 1774. 1786. 1813. 1811. 1794. 1790. 1790.]\n",
            "[1716. 1745. 1774. 1786. 1813. 1811. 1794. 1790. 1793. 1793.]\n",
            "[1745. 1774. 1786. 1813. 1811. 1794. 1790. 1793. 1779. 1779.]\n",
            "[1774. 1786. 1813. 1811. 1794. 1790. 1793. 1779. 1748. 1748.]\n",
            "[1786. 1813. 1811. 1794. 1790. 1793. 1779. 1748. 1786. 1786.]\n",
            "[1813. 1811. 1794. 1790. 1793. 1779. 1748. 1786. 1814. 1814.]\n",
            "[1811. 1794. 1790. 1793. 1779. 1748. 1786. 1814. 1837. 1837.]\n",
            "[1794. 1790. 1793. 1779. 1748. 1786. 1814. 1837. 1828. 1828.]\n",
            "[1790. 1793. 1779. 1748. 1786. 1814. 1837. 1828. 1839. 1839.]\n",
            "[1793. 1779. 1748. 1786. 1814. 1837. 1828. 1839. 1841. 1841.]\n",
            "[1779. 1748. 1786. 1814. 1837. 1828. 1839. 1841. 1850. 1850.]\n",
            "[1748. 1786. 1814. 1837. 1828. 1839. 1841. 1850. 1859. 1859.]\n",
            "[1786. 1814. 1837. 1828. 1839. 1841. 1850. 1859. 1852. 1852.]\n",
            "[1814. 1837. 1828. 1839. 1841. 1850. 1859. 1852. 1861. 1861.]\n",
            "[1837. 1828. 1839. 1841. 1850. 1859. 1852. 1861. 1842. 1842.]\n",
            "[1828. 1839. 1841. 1850. 1859. 1852. 1861. 1842. 1824. 1824.]\n",
            "[1839. 1841. 1850. 1859. 1852. 1861. 1842. 1824. 1808. 1808.]\n",
            "[1841. 1850. 1859. 1852. 1861. 1842. 1824. 1808. 1834. 1834.]\n",
            "[1850. 1859. 1852. 1861. 1842. 1824. 1808. 1834. 1815. 1815.]\n",
            "[1859. 1852. 1861. 1842. 1824. 1808. 1834. 1815. 1825. 1825.]\n",
            "[1852. 1861. 1842. 1824. 1808. 1834. 1815. 1825. 1824. 1824.]\n",
            "[1861. 1842. 1824. 1808. 1834. 1815. 1825. 1824. 1817. 1817.]\n",
            "[1842. 1824. 1808. 1834. 1815. 1825. 1824. 1817. 1832. 1832.]\n",
            "[1824. 1808. 1834. 1815. 1825. 1824. 1817. 1832. 1852. 1852.]\n",
            "[1808. 1834. 1815. 1825. 1824. 1817. 1832. 1852. 1888. 1888.]\n",
            "[1834. 1815. 1825. 1824. 1817. 1832. 1852. 1888. 1849. 1849.]\n",
            "[1815. 1825. 1824. 1817. 1832. 1852. 1888. 1849. 1860. 1860.]\n",
            "[1825. 1824. 1817. 1832. 1852. 1888. 1849. 1860. 1827. 1827.]\n",
            "[1824. 1817. 1832. 1852. 1888. 1849. 1860. 1827. 1814. 1814.]\n",
            "[1817. 1832. 1852. 1888. 1849. 1860. 1827. 1814. 1818. 1818.]\n",
            "[1832. 1852. 1888. 1849. 1860. 1827. 1814. 1818. 1855. 1855.]\n",
            "[1852. 1888. 1849. 1860. 1827. 1814. 1818. 1855. 1869. 1869.]\n",
            "[1888. 1849. 1860. 1827. 1814. 1818. 1855. 1869. 1870. 1870.]\n",
            "[1849. 1860. 1827. 1814. 1818. 1855. 1869. 1870. 1851. 1851.]\n",
            "[1860. 1827. 1814. 1818. 1855. 1869. 1870. 1851. 1863. 1863.]\n",
            "[1827. 1814. 1818. 1855. 1869. 1870. 1851. 1863. 1890. 1890.]\n",
            "[1814. 1818. 1855. 1869. 1870. 1851. 1863. 1890. 1881. 1881.]\n",
            "[1818. 1855. 1869. 1870. 1851. 1863. 1890. 1881. 1904. 1904.]\n",
            "[1855. 1869. 1870. 1851. 1863. 1890. 1881. 1904. 1908. 1908.]\n",
            "[1869. 1870. 1851. 1863. 1890. 1881. 1904. 1908. 1892. 1892.]\n",
            "[1870. 1851. 1863. 1890. 1881. 1904. 1908. 1892. 1876. 1876.]\n",
            "[1851. 1863. 1890. 1881. 1904. 1908. 1892. 1876. 1913. 1913.]\n",
            "[1863. 1890. 1881. 1904. 1908. 1892. 1876. 1913. 1940. 1940.]\n",
            "[1890. 1881. 1904. 1908. 1892. 1876. 1913. 1940. 1944. 1944.]\n",
            "[1881. 1904. 1908. 1892. 1876. 1913. 1940. 1944. 1951. 1951.]\n",
            "[1904. 1908. 1892. 1876. 1913. 1940. 1944. 1951. 1935. 1935.]\n",
            "[1908. 1892. 1876. 1913. 1940. 1944. 1951. 1935. 1896. 1896.]\n",
            "[1892. 1876. 1913. 1940. 1944. 1951. 1935. 1896. 1869. 1869.]\n",
            "[1876. 1913. 1940. 1944. 1951. 1935. 1896. 1869. 1885. 1885.]\n",
            "[1913. 1940. 1944. 1951. 1935. 1896. 1869. 1885. 1902. 1902.]\n",
            "[1940. 1944. 1951. 1935. 1896. 1869. 1885. 1902. 1883. 1883.]\n",
            "[1944. 1951. 1935. 1896. 1869. 1885. 1902. 1883. 1826. 1826.]\n",
            "[1951. 1935. 1896. 1869. 1885. 1902. 1883. 1826. 1822. 1822.]\n",
            "[1935. 1896. 1869. 1885. 1902. 1883. 1826. 1822. 1836. 1836.]\n",
            "[1896. 1869. 1885. 1902. 1883. 1826. 1822. 1836. 1834. 1834.]\n",
            "[1869. 1885. 1902. 1883. 1826. 1822. 1836. 1834. 1847. 1847.]\n",
            "[1885. 1902. 1883. 1826. 1822. 1836. 1834. 1847. 1844. 1844.]\n",
            "[1902. 1883. 1826. 1822. 1836. 1834. 1847. 1844. 1857. 1857.]\n",
            "[1883. 1826. 1822. 1836. 1834. 1847. 1844. 1857. 1860. 1860.]\n",
            "[1826. 1822. 1836. 1834. 1847. 1844. 1857. 1860. 1858. 1858.]\n",
            "[1822. 1836. 1834. 1847. 1844. 1857. 1860. 1858. 1870. 1870.]\n",
            "[1836. 1834. 1847. 1844. 1857. 1860. 1858. 1870. 1858. 1858.]\n",
            "[1834. 1847. 1844. 1857. 1860. 1858. 1870. 1858. 1853. 1853.]\n",
            "[1847. 1844. 1857. 1860. 1858. 1870. 1858. 1853. 1837. 1837.]\n",
            "[1844. 1857. 1860. 1858. 1870. 1858. 1853. 1837. 1837. 1837.]\n",
            "[1857. 1860. 1858. 1870. 1858. 1853. 1837. 1837. 1870. 1870.]\n",
            "[1860. 1858. 1870. 1858. 1853. 1837. 1837. 1870. 1889. 1889.]\n",
            "[1858. 1870. 1858. 1853. 1837. 1837. 1870. 1889. 1884. 1884.]\n",
            "[1870. 1858. 1853. 1837. 1837. 1870. 1889. 1884. 1918. 1918.]\n",
            "[1858. 1853. 1837. 1837. 1870. 1889. 1884. 1918. 1920. 1920.]\n",
            "[1853. 1837. 1837. 1870. 1889. 1884. 1918. 1920. 1883. 1883.]\n",
            "[1837. 1837. 1870. 1889. 1884. 1918. 1920. 1883. 1919. 1919.]\n",
            "[1837. 1870. 1889. 1884. 1918. 1920. 1883. 1919. 1875. 1875.]\n",
            "[1870. 1889. 1884. 1918. 1920. 1883. 1919. 1875. 1892. 1892.]\n",
            "[1889. 1884. 1918. 1920. 1883. 1919. 1875. 1892. 1876. 1876.]\n",
            "[1884. 1918. 1920. 1883. 1919. 1875. 1892. 1876. 1844. 1844.]\n",
            "[1918. 1920. 1883. 1919. 1875. 1892. 1876. 1844. 1828. 1828.]\n",
            "[1920. 1883. 1919. 1875. 1892. 1876. 1844. 1828. 1770. 1770.]\n",
            "[1883. 1919. 1875. 1892. 1876. 1844. 1828. 1770. 1759. 1759.]\n",
            "[1919. 1875. 1892. 1876. 1844. 1828. 1770. 1759. 1814. 1814.]\n",
            "[1875. 1892. 1876. 1844. 1828. 1770. 1759. 1814. 1829. 1829.]\n",
            "[1892. 1876. 1844. 1828. 1770. 1759. 1814. 1829. 1831. 1831.]\n",
            "[1876. 1844. 1828. 1770. 1759. 1814. 1829. 1831. 1793. 1793.]\n",
            "[1844. 1828. 1770. 1759. 1814. 1829. 1831. 1793. 1768. 1768.]\n",
            "[1828. 1770. 1759. 1814. 1829. 1831. 1793. 1768. 1772. 1772.]\n",
            "[1770. 1759. 1814. 1829. 1831. 1793. 1768. 1772. 1785. 1785.]\n",
            "[1759. 1814. 1829. 1831. 1793. 1768. 1772. 1785. 1777. 1777.]\n"
          ]
        }
      ]
    },
    {
      "cell_type": "code",
      "source": [
        "plt.plot(time, x_meas_save, 'r*', label='Measured')\n",
        "plt.plot(time, x_avg_save, 'b-', label='Moving average_10')\n",
        "plt.legend(loc='upper left')\n",
        "plt.title('Measured Altitudes v.s. Moving Average Filter Values')\n",
        "plt.xlabel('Time [sec]')\n",
        "plt.ylabel('Altitude [m]')\n",
        "plt.savefig('/content/png')"
      ],
      "metadata": {
        "colab": {
          "base_uri": "https://localhost:8080/",
          "height": 295
        },
        "id": "2PRZXzQYO0GX",
        "outputId": "78a7e3d8-5d1d-417e-8901-28618025233f"
      },
      "execution_count": 21,
      "outputs": [
        {
          "output_type": "display_data",
          "data": {
            "text/plain": [
              "<Figure size 432x288 with 1 Axes>"
            ],
            "image/png": "[encoded data removed]"
          },
          "metadata": {
            "needs_background": "light"
          }
        }
      ]
    }
  ]
}