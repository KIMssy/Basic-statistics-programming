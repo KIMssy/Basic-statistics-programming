{
  "nbformat": 4,
  "nbformat_minor": 0,
  "metadata": {
    "colab": {
      "provenance": []
    },
    "kernelspec": {
      "name": "python3",
      "display_name": "Python 3"
    },
    "language_info": {
      "name": "python"
    }
  },
  "cells": [
    {
      "cell_type": "code",
      "execution_count": null,
      "metadata": {
        "id": "tNr1gzIBk1S0"
      },
      "outputs": [],
      "source": [
        "import numpy as np"
      ]
    },
    {
      "cell_type": "code",
      "source": [
        "A = np.array([[0.0, 1.0, -3.0], [2.0, 3.0, -1.0], [4.0, 5.0, -2.0]])\n",
        "B = np.array([[-5.0], [7.0], [10.0]])"
      ],
      "metadata": {
        "id": "TgN-Hl4AlZi2"
      },
      "execution_count": null,
      "outputs": []
    },
    {
      "cell_type": "code",
      "source": [
        "row_index = list(range(len(A)))\n",
        "print(row_index)\n",
        "print(len(row_index))"
      ],
      "metadata": {
        "colab": {
          "base_uri": "https://localhost:8080/"
        },
        "id": "CzkWJAx92HPF",
        "outputId": "b593d1c2-95e4-4333-dcaa-030cd3ddf215"
      },
      "execution_count": 25,
      "outputs": [
        {
          "output_type": "stream",
          "name": "stdout",
          "text": [
            "[0, 1, 2]\n",
            "3\n"
          ]
        }
      ]
    },
    {
      "cell_type": "code",
      "source": [
        "col_index = len(A[0])\n",
        "print(A[0])\n",
        "print(col_index)"
      ],
      "metadata": {
        "colab": {
          "base_uri": "https://localhost:8080/"
        },
        "id": "EWqx2isU2WvU",
        "outputId": "48968474-0e12-4418-f3b6-6be430c9751d"
      },
      "execution_count": 26,
      "outputs": [
        {
          "output_type": "stream",
          "name": "stdout",
          "text": [
            "[ 0.  1. -3.]\n",
            "3\n"
          ]
        }
      ]
    },
    {
      "cell_type": "code",
      "source": [
        "def check_matrix(a,b):\n",
        "  print(a)\n",
        "  print('==================')\n",
        "  print(b)"
      ],
      "metadata": {
        "id": "Js56bqgYmLsF"
      },
      "execution_count": null,
      "outputs": []
    },
    {
      "cell_type": "code",
      "source": [
        "pivot_mat = []"
      ],
      "metadata": {
        "id": "8Br0JW8H22U8"
      },
      "execution_count": 27,
      "outputs": []
    },
    {
      "cell_type": "code",
      "source": [
        "A[1][0]"
      ],
      "metadata": {
        "colab": {
          "base_uri": "https://localhost:8080/"
        },
        "id": "d6bUc3u-25ps",
        "outputId": "56bd37f2-4b84-438d-eb3b-d99b12855217"
      },
      "execution_count": 28,
      "outputs": [
        {
          "output_type": "execute_result",
          "data": {
            "text/plain": [
              "2.0"
            ]
          },
          "metadata": {},
          "execution_count": 28
        }
      ]
    },
    {
      "cell_type": "code",
      "source": [
        "def find_rows_with_nonzero(AA,r,row_index):\n",
        "  for c in range(len(row_index)):\n",
        "    if AA[c][r] != 0.0:\n",
        "      rows_with_nonzero = c\n",
        "      pivot_number = AA[c][r]\n",
        "      break\n",
        "  print(rows_with_nonzero)\n",
        "  print(pivot_number)\n",
        "  return rows_with_nonzero"
      ],
      "metadata": {
        "id": "gjuQTAH3nVPM"
      },
      "execution_count": 29,
      "outputs": []
    },
    {
      "cell_type": "code",
      "source": [
        "#암기하기"
      ],
      "metadata": {
        "id": "drjnSCFsk3UV"
      },
      "execution_count": null,
      "outputs": []
    },
    {
      "cell_type": "code",
      "source": [
        "import copy\n",
        "def change(inp_list, inp1, inp2):\n",
        "  tmp = copy.deepcopy(inp_list[inp1])\n",
        "  inp_list[inp1] = inp_list[inp2]\n",
        "  inp_list[inp2] = tmp\n",
        "  result = inp_list\n",
        "  return inp_list"
      ],
      "metadata": {
        "id": "ixPcONImk3ZM"
      },
      "execution_count": null,
      "outputs": []
    },
    {
      "cell_type": "code",
      "source": [
        "pivot_row = np.zeros(col_index, dtype=int)\n",
        "print(pivot_row)"
      ],
      "metadata": {
        "id": "t3qy9H9eriez",
        "colab": {
          "base_uri": "https://localhost:8080/"
        },
        "outputId": "dc54923b-0c44-4fa7-8e87-a8d7400bbc64"
      },
      "execution_count": 33,
      "outputs": [
        {
          "output_type": "stream",
          "name": "stdout",
          "text": [
            "[0 0 0]\n"
          ]
        }
      ]
    },
    {
      "cell_type": "code",
      "source": [
        "pivot_row[0] = find_rows_with_nonzero(A,0,row_index)\n",
        "print(pivot_row[0])\n",
        "pivot = A[pivot_row[0]][0]\n",
        "print(pivot)"
      ],
      "metadata": {
        "colab": {
          "base_uri": "https://localhost:8080/"
        },
        "id": "shtAS0ra4g8r",
        "outputId": "4aec965b-d5d2-4f8b-abf0-5186c4e499e0"
      },
      "execution_count": 34,
      "outputs": [
        {
          "output_type": "stream",
          "name": "stdout",
          "text": [
            "1\n",
            "2.0\n",
            "1\n",
            "2.0\n"
          ]
        }
      ]
    },
    {
      "cell_type": "code",
      "source": [
        "rows_with_nonzero = 2\n",
        "a = change(A,0, rows_with_nonzero)\n",
        "b = change(B,0, rows_with_nonzero)\n",
        "print(a)\n",
        "print(b)"
      ],
      "metadata": {
        "colab": {
          "base_uri": "https://localhost:8080/"
        },
        "id": "0Sld3JC-k3eN",
        "outputId": "16be9fe6-9eb1-472b-f9c0-447f90cae01f"
      },
      "execution_count": null,
      "outputs": [
        {
          "output_type": "stream",
          "name": "stdout",
          "text": [
            "[[ 4.  5. -2.]\n",
            " [ 2.  3. -1.]\n",
            " [ 0.  1. -3.]]\n",
            "[[10.]\n",
            " [ 7.]\n",
            " [-5.]]\n"
          ]
        }
      ]
    },
    {
      "cell_type": "code",
      "source": [
        "rows_with_nonzero = 2\n",
        "a = change(A,0, rows_with_nonzero)\n",
        "b = change(B,0, rows_with_nonzero)\n",
        "check_matrix(a,b)\n",
        "print(a)\n",
        "print(b)"
      ],
      "metadata": {
        "id": "PAt7cwN-mcz1",
        "colab": {
          "base_uri": "https://localhost:8080/"
        },
        "outputId": "f926ed3a-a511-4e99-9339-efa2577616a7"
      },
      "execution_count": null,
      "outputs": [
        {
          "output_type": "stream",
          "name": "stdout",
          "text": [
            "[[ 0.  1. -3.]\n",
            " [ 2.  3. -1.]\n",
            " [ 4.  5. -2.]]\n",
            "==================\n",
            "[[-5.]\n",
            " [ 7.]\n",
            " [10.]]\n",
            "[[ 0.  1. -3.]\n",
            " [ 2.  3. -1.]\n",
            " [ 4.  5. -2.]]\n",
            "[[-5.]\n",
            " [ 7.]\n",
            " [10.]]\n"
          ]
        }
      ]
    }
  ]
}