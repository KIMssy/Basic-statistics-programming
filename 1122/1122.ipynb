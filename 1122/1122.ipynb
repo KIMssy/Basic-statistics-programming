{
  "nbformat": 4,
  "nbformat_minor": 0,
  "metadata": {
    "colab": {
      "provenance": []
    },
    "kernelspec": {
      "name": "python3",
      "display_name": "Python 3"
    },
    "language_info": {
      "name": "python"
    }
  },
  "cells": [
    {
      "cell_type": "code",
      "execution_count": 52,
      "metadata": {
        "id": "60WtAcF36vAN"
      },
      "outputs": [],
      "source": [
        "import numpy as np"
      ]
    },
    {
      "cell_type": "code",
      "source": [
        "A = np.array([[3.0, -1.0, 2.0], [1.0, 1.0, 3.0], [2.0, 2.0, -1.0]])\n",
        "B = np.array([[12.0], [11.0], [2.0]])"
      ],
      "metadata": {
        "id": "RkXuLXyI6wJO"
      },
      "execution_count": 53,
      "outputs": []
    },
    {
      "cell_type": "code",
      "source": [
        "row_index = list(range(len(A)))\n",
        "print(row_index)\n",
        "print(len(row_index))"
      ],
      "metadata": {
        "colab": {
          "base_uri": "https://localhost:8080/"
        },
        "id": "9XB0uEEB8ZVF",
        "outputId": "ced796ab-ead7-4560-c023-41aa8d09548c"
      },
      "execution_count": 54,
      "outputs": [
        {
          "output_type": "stream",
          "name": "stdout",
          "text": [
            "[0, 1, 2]\n",
            "3\n"
          ]
        }
      ]
    },
    {
      "cell_type": "code",
      "source": [
        "col_index = len(A[0])\n",
        "print(A[0])\n",
        "print(col_index)"
      ],
      "metadata": {
        "colab": {
          "base_uri": "https://localhost:8080/"
        },
        "id": "NKXkW-Q98ZZk",
        "outputId": "c8155287-0278-413c-b0ac-3d92a15a5dc2"
      },
      "execution_count": 55,
      "outputs": [
        {
          "output_type": "stream",
          "name": "stdout",
          "text": [
            "[ 3. -1.  2.]\n",
            "3\n"
          ]
        }
      ]
    },
    {
      "cell_type": "code",
      "source": [
        "def check_matrix(a,b):\n",
        "  print(a)\n",
        "  print('==================')\n",
        "  print(b)"
      ],
      "metadata": {
        "id": "VHbfW7eNAcWc"
      },
      "execution_count": 56,
      "outputs": []
    },
    {
      "cell_type": "code",
      "source": [
        "pivot_mat = [ ]"
      ],
      "metadata": {
        "id": "QNO_5bHZFjML"
      },
      "execution_count": 57,
      "outputs": []
    },
    {
      "cell_type": "code",
      "source": [
        "A[1][0]"
      ],
      "metadata": {
        "colab": {
          "base_uri": "https://localhost:8080/"
        },
        "id": "gJS7HeQKFk_S",
        "outputId": "eeeac0e8-797e-467d-d15f-feef368dceb8"
      },
      "execution_count": 58,
      "outputs": [
        {
          "output_type": "execute_result",
          "data": {
            "text/plain": [
              "1.0"
            ]
          },
          "metadata": {},
          "execution_count": 58
        }
      ]
    },
    {
      "cell_type": "code",
      "source": [
        "def find_rows_with_nonzero(AA,r,row_index):\n",
        "  for c in range(r,len(row_index)):\n",
        "    if AA[c][r] != 0.0:\n",
        "      rows_with_nonzero = c\n",
        "      pivot_number = AA[c][r]\n",
        "      break\n",
        "  print(rows_with_nonzero)\n",
        "  print(pivot_number)\n",
        "  return rows_with_nonzero"
      ],
      "metadata": {
        "id": "VbKLaY947lHk"
      },
      "execution_count": 59,
      "outputs": []
    },
    {
      "cell_type": "code",
      "source": [
        "import copy\n",
        "def change(inp_list, inp1, inp2): #열바꾸는거\n",
        "  tmp = copy.deepcopy(inp_list[inp1])\n",
        "  inp_list[inp1] = inp_list[inp2]\n",
        "  inp_list[inp2] = tmp\n",
        "  result = inp_list\n",
        "  return inp_list"
      ],
      "metadata": {
        "id": "1ib1GGsRC-N0"
      },
      "execution_count": 60,
      "outputs": []
    },
    {
      "cell_type": "code",
      "source": [
        "pivot_row = np.zeros(col_index, dtype=int)\n",
        "print(pivot_row)"
      ],
      "metadata": {
        "colab": {
          "base_uri": "https://localhost:8080/"
        },
        "id": "KNij5v_O7lJ3",
        "outputId": "ac14b9ad-beae-4623-a09a-0802334b2a2e"
      },
      "execution_count": 61,
      "outputs": [
        {
          "output_type": "stream",
          "name": "stdout",
          "text": [
            "[0 0 0]\n"
          ]
        }
      ]
    },
    {
      "cell_type": "code",
      "source": [
        "pivot_row[0] = find_rows_with_nonzero(A,0,row_index)\n",
        "print(pivot_row[0])\n",
        "pivot = A[pivot_row[0]][0]\n",
        "print(pivot)"
      ],
      "metadata": {
        "colab": {
          "base_uri": "https://localhost:8080/"
        },
        "id": "Mp60aP847lMJ",
        "outputId": "a073fbbb-82b0-40e9-9173-0024cff4fecf"
      },
      "execution_count": 62,
      "outputs": [
        {
          "output_type": "stream",
          "name": "stdout",
          "text": [
            "0\n",
            "3.0\n",
            "0\n",
            "3.0\n"
          ]
        }
      ]
    },
    {
      "cell_type": "code",
      "source": [
        "if pivot_row[0] != 0:\n",
        "  a = change(A,0, pivot_row[0])\n",
        "  b = change(B,0, pivot_row[0])\n",
        "else:\n",
        "  a = change(A,0,0)\n",
        "  b = change(B,0,0)\n",
        "\n",
        "check_matrix(a,b)"
      ],
      "metadata": {
        "colab": {
          "base_uri": "https://localhost:8080/"
        },
        "id": "fK0mcJ3vB-PC",
        "outputId": "ecb7926b-bd56-463e-a689-67933e931cbe"
      },
      "execution_count": 63,
      "outputs": [
        {
          "output_type": "stream",
          "name": "stdout",
          "text": [
            "[[ 3. -1.  2.]\n",
            " [ 1.  1.  3.]\n",
            " [ 2.  2. -1.]]\n",
            "==================\n",
            "[[12.]\n",
            " [11.]\n",
            " [ 2.]]\n"
          ]
        }
      ]
    },
    {
      "cell_type": "code",
      "source": [
        "a[0] = a[0]/ pivot\n",
        "b[0] = b[0]/ pivot \n",
        "\n",
        "check_matrix(a,b)"
      ],
      "metadata": {
        "colab": {
          "base_uri": "https://localhost:8080/"
        },
        "id": "XCChvR13DCGT",
        "outputId": "7d9bb05a-4471-4a36-b95f-78508f34bb68"
      },
      "execution_count": 64,
      "outputs": [
        {
          "output_type": "stream",
          "name": "stdout",
          "text": [
            "[[ 1.         -0.33333333  0.66666667]\n",
            " [ 1.          1.          3.        ]\n",
            " [ 2.          2.         -1.        ]]\n",
            "==================\n",
            "[[ 4.]\n",
            " [11.]\n",
            " [ 2.]]\n"
          ]
        }
      ]
    },
    {
      "cell_type": "code",
      "source": [
        "for i in range(1, len(row_index)):\n",
        "  pivot = a[i][0]\n",
        "  print(pivot)\n",
        "  a[i] = a[i] - a[0]* pivot\n",
        "  b[i] = b[i] - b[0]* pivot\n",
        "check_matrix(a,b)"
      ],
      "metadata": {
        "colab": {
          "base_uri": "https://localhost:8080/"
        },
        "id": "e__IuxAvDPM6",
        "outputId": "9e89abf7-e6c1-48b8-d405-8eaf4f63fae2"
      },
      "execution_count": 65,
      "outputs": [
        {
          "output_type": "stream",
          "name": "stdout",
          "text": [
            "1.0\n",
            "2.0\n",
            "[[ 1.         -0.33333333  0.66666667]\n",
            " [ 0.          1.33333333  2.33333333]\n",
            " [ 0.          2.66666667 -2.33333333]]\n",
            "==================\n",
            "[[ 4.]\n",
            " [ 7.]\n",
            " [-6.]]\n"
          ]
        }
      ]
    },
    {
      "cell_type": "code",
      "source": [
        "pivot_row[1] = find_rows_with_nonzero(a,1,row_index)\n",
        "print(pivot_row[1])\n",
        "pivot = A[pivot_row[1]][1]\n",
        "print(pivot)"
      ],
      "metadata": {
        "colab": {
          "base_uri": "https://localhost:8080/"
        },
        "id": "zR6TmhLiDPPK",
        "outputId": "afc03666-7804-4f98-906e-aa37c9ac548d"
      },
      "execution_count": 66,
      "outputs": [
        {
          "output_type": "stream",
          "name": "stdout",
          "text": [
            "1\n",
            "1.3333333333333333\n",
            "1\n",
            "1.3333333333333333\n"
          ]
        }
      ]
    },
    {
      "cell_type": "code",
      "source": [
        "a[1] = a[1]/ pivot\n",
        "b[1] = b[1]/ pivot \n",
        "check_matrix(a,b)"
      ],
      "metadata": {
        "colab": {
          "base_uri": "https://localhost:8080/"
        },
        "id": "bXjzKwb3FVEM",
        "outputId": "59f578e1-b1da-48a3-c564-4739c3c64bf4"
      },
      "execution_count": 67,
      "outputs": [
        {
          "output_type": "stream",
          "name": "stdout",
          "text": [
            "[[ 1.         -0.33333333  0.66666667]\n",
            " [ 0.          1.          1.75      ]\n",
            " [ 0.          2.66666667 -2.33333333]]\n",
            "==================\n",
            "[[ 4.  ]\n",
            " [ 5.25]\n",
            " [-6.  ]]\n"
          ]
        }
      ]
    },
    {
      "cell_type": "code",
      "source": [
        "if pivot_row[1] != 1:\n",
        "  a = change(A,pivot_row[1]+1,pivot_row[1])\n",
        "  b = change(B,pivot_row[1]+1,pivot_row[1])"
      ],
      "metadata": {
        "id": "LyPU4BsJDT0z"
      },
      "execution_count": 68,
      "outputs": []
    },
    {
      "cell_type": "code",
      "source": [
        "for i in range(2, len(row_index)):\n",
        "  pivot = a[i][1]\n",
        "  a[i] = a[i] - a[1]* pivot\n",
        "  b[i] = b[i] - b[1]* pivot\n",
        "  \n",
        "check_matrix(a,b)"
      ],
      "metadata": {
        "colab": {
          "base_uri": "https://localhost:8080/"
        },
        "id": "Un5O5xHDDVkT",
        "outputId": "569aa445-be88-4f39-8b22-9f4533d57364"
      },
      "execution_count": 69,
      "outputs": [
        {
          "output_type": "stream",
          "name": "stdout",
          "text": [
            "[[ 1.         -0.33333333  0.66666667]\n",
            " [ 0.          1.          1.75      ]\n",
            " [ 0.          0.         -7.        ]]\n",
            "==================\n",
            "[[  4.  ]\n",
            " [  5.25]\n",
            " [-20.  ]]\n"
          ]
        }
      ]
    }
  ]
}