{
  "nbformat": 4,
  "nbformat_minor": 0,
  "metadata": {
    "colab": {
      "provenance": []
    },
    "kernelspec": {
      "name": "python3",
      "display_name": "Python 3"
    },
    "language_info": {
      "name": "python"
    }
  },
  "cells": [
    {
      "cell_type": "code",
      "execution_count": 153,
      "metadata": {
        "id": "tNr1gzIBk1S0"
      },
      "outputs": [],
      "source": [
        "import numpy as np"
      ]
    },
    {
      "cell_type": "code",
      "source": [
        "A = np.array([[0.0, 1.0, -3.0], [2.0, 3.0, -1.0], [4.0, 5.0, -2.0]])\n",
        "B = np.array([[-5.0], [7.0], [10.0]])"
      ],
      "metadata": {
        "id": "TgN-Hl4AlZi2"
      },
      "execution_count": 154,
      "outputs": []
    },
    {
      "cell_type": "code",
      "source": [
        "row_index = list(range(len(A)))\n",
        "print(row_index)\n",
        "print(len(row_index))"
      ],
      "metadata": {
        "colab": {
          "base_uri": "https://localhost:8080/"
        },
        "id": "CzkWJAx92HPF",
        "outputId": "ecdd3cd3-9a7c-43db-bb17-9bc86416601e"
      },
      "execution_count": 155,
      "outputs": [
        {
          "output_type": "stream",
          "name": "stdout",
          "text": [
            "[0, 1, 2]\n",
            "3\n"
          ]
        }
      ]
    },
    {
      "cell_type": "code",
      "source": [
        "col_index = len(A[0])\n",
        "print(A[0])\n",
        "print(col_index)"
      ],
      "metadata": {
        "colab": {
          "base_uri": "https://localhost:8080/"
        },
        "id": "EWqx2isU2WvU",
        "outputId": "5fe319b6-102d-43b0-b197-6bffecb246ee"
      },
      "execution_count": 156,
      "outputs": [
        {
          "output_type": "stream",
          "name": "stdout",
          "text": [
            "[ 0.  1. -3.]\n",
            "3\n"
          ]
        }
      ]
    },
    {
      "cell_type": "code",
      "source": [
        "def check_matrix(a,b):\n",
        "  print(a)\n",
        "  print('==================')\n",
        "  print(b)"
      ],
      "metadata": {
        "id": "Js56bqgYmLsF"
      },
      "execution_count": 157,
      "outputs": []
    },
    {
      "cell_type": "code",
      "source": [
        "pivot_mat = [ ]"
      ],
      "metadata": {
        "id": "8Br0JW8H22U8"
      },
      "execution_count": 158,
      "outputs": []
    },
    {
      "cell_type": "code",
      "source": [
        "A[1][0]"
      ],
      "metadata": {
        "colab": {
          "base_uri": "https://localhost:8080/"
        },
        "id": "d6bUc3u-25ps",
        "outputId": "af5d66bb-8426-416d-bf91-03789fc47825"
      },
      "execution_count": 159,
      "outputs": [
        {
          "output_type": "execute_result",
          "data": {
            "text/plain": [
              "2.0"
            ]
          },
          "metadata": {},
          "execution_count": 159
        }
      ]
    },
    {
      "cell_type": "code",
      "source": [
        "def find_rows_with_nonzero(AA,r,row_index):\n",
        "  for c in range(r,len(row_index)):\n",
        "    if AA[c][r] != 0.0:\n",
        "      rows_with_nonzero = c\n",
        "      pivot_number = AA[c][r]\n",
        "      break\n",
        "  print(rows_with_nonzero)\n",
        "  print(pivot_number)\n",
        "  return rows_with_nonzero"
      ],
      "metadata": {
        "id": "gjuQTAH3nVPM"
      },
      "execution_count": 160,
      "outputs": []
    },
    {
      "cell_type": "code",
      "source": [
        "#암기하기"
      ],
      "metadata": {
        "id": "drjnSCFsk3UV"
      },
      "execution_count": 161,
      "outputs": []
    },
    {
      "cell_type": "code",
      "source": [
        "import copy\n",
        "def change(inp_list, inp1, inp2): #열바꾸는거\n",
        "  tmp = copy.deepcopy(inp_list[inp1])\n",
        "  inp_list[inp1] = inp_list[inp2]\n",
        "  inp_list[inp2] = tmp\n",
        "  result = inp_list\n",
        "  return inp_list"
      ],
      "metadata": {
        "id": "ixPcONImk3ZM"
      },
      "execution_count": 162,
      "outputs": []
    },
    {
      "cell_type": "code",
      "source": [
        "pivot_row = np.zeros(col_index, dtype=int)\n",
        "print(pivot_row)"
      ],
      "metadata": {
        "id": "t3qy9H9eriez",
        "colab": {
          "base_uri": "https://localhost:8080/"
        },
        "outputId": "37b8e93d-133c-4d74-d78d-ee5f8afd3245"
      },
      "execution_count": 163,
      "outputs": [
        {
          "output_type": "stream",
          "name": "stdout",
          "text": [
            "[0 0 0]\n"
          ]
        }
      ]
    },
    {
      "cell_type": "code",
      "source": [
        "pivot_row[0] = find_rows_with_nonzero(A,0,row_index)\n",
        "print(pivot_row[0])\n",
        "pivot = A[pivot_row[0]][0]\n",
        "print(pivot)"
      ],
      "metadata": {
        "colab": {
          "base_uri": "https://localhost:8080/"
        },
        "id": "shtAS0ra4g8r",
        "outputId": "9f7b4469-232a-4b0e-8c32-77518d2a6e10"
      },
      "execution_count": 164,
      "outputs": [
        {
          "output_type": "stream",
          "name": "stdout",
          "text": [
            "1\n",
            "2.0\n",
            "1\n",
            "2.0\n"
          ]
        }
      ]
    },
    {
      "cell_type": "code",
      "source": [
        "if pivot_row[0] != 0:\n",
        "  a = change(A,0,pivot_row[0])\n",
        "  b = change(B,0,pivot_row[0])"
      ],
      "metadata": {
        "id": "1HrFXUMDxzZ3"
      },
      "execution_count": 165,
      "outputs": []
    },
    {
      "cell_type": "code",
      "source": [
        "check_matrix(a,b)"
      ],
      "metadata": {
        "colab": {
          "base_uri": "https://localhost:8080/"
        },
        "id": "ysmYGMQwyQmv",
        "outputId": "5a1c9f50-d8c9-411c-9aa7-df9ef64ff6f0"
      },
      "execution_count": 166,
      "outputs": [
        {
          "output_type": "stream",
          "name": "stdout",
          "text": [
            "[[ 2.  3. -1.]\n",
            " [ 0.  1. -3.]\n",
            " [ 4.  5. -2.]]\n",
            "==================\n",
            "[[ 7.]\n",
            " [-5.]\n",
            " [10.]]\n"
          ]
        }
      ]
    },
    {
      "cell_type": "code",
      "source": [
        "a[0] = a[0]/ pivot\n",
        "b[0] = b[0]/ pivot "
      ],
      "metadata": {
        "id": "C3xXTjM2yq6O"
      },
      "execution_count": 167,
      "outputs": []
    },
    {
      "cell_type": "code",
      "source": [
        "check_matrix(a,b)"
      ],
      "metadata": {
        "colab": {
          "base_uri": "https://localhost:8080/"
        },
        "id": "zZlFsUkty9Lm",
        "outputId": "58ea2ad2-385a-47b2-9334-0bc94d8b8bbd"
      },
      "execution_count": 168,
      "outputs": [
        {
          "output_type": "stream",
          "name": "stdout",
          "text": [
            "[[ 1.   1.5 -0.5]\n",
            " [ 0.   1.  -3. ]\n",
            " [ 4.   5.  -2. ]]\n",
            "==================\n",
            "[[ 3.5]\n",
            " [-5. ]\n",
            " [10. ]]\n"
          ]
        }
      ]
    },
    {
      "cell_type": "code",
      "source": [
        "for i in range(1, len(row_index)):\n",
        "  pivot = a[i][0]\n",
        "  print(pivot)\n",
        "  a[i] = a[i] - a[0]* pivot\n",
        "  b[i] = b[i] - b[0]* pivot\n",
        "check_matrix(a,b)"
      ],
      "metadata": {
        "colab": {
          "base_uri": "https://localhost:8080/"
        },
        "id": "Dw0HlZZB2Fhv",
        "outputId": "3bc55d35-1228-4cac-f629-84ead6e6bb89"
      },
      "execution_count": 169,
      "outputs": [
        {
          "output_type": "stream",
          "name": "stdout",
          "text": [
            "0.0\n",
            "4.0\n",
            "[[ 1.   1.5 -0.5]\n",
            " [ 0.   1.  -3. ]\n",
            " [ 0.  -1.   0. ]]\n",
            "==================\n",
            "[[ 3.5]\n",
            " [-5. ]\n",
            " [-4. ]]\n"
          ]
        }
      ]
    },
    {
      "cell_type": "code",
      "source": [
        "pivot_row[1] = find_rows_with_nonzero(a,1,row_index)\n",
        "print(pivot_row[1])\n",
        "pivot = A[pivot_row[1]][1]\n",
        "print(pivot)"
      ],
      "metadata": {
        "colab": {
          "base_uri": "https://localhost:8080/"
        },
        "id": "xv8Lzjsv4GWn",
        "outputId": "659fc480-1c7f-4dab-d748-97f3c08c2041"
      },
      "execution_count": 170,
      "outputs": [
        {
          "output_type": "stream",
          "name": "stdout",
          "text": [
            "1\n",
            "1.0\n",
            "1\n",
            "1.0\n"
          ]
        }
      ]
    },
    {
      "cell_type": "code",
      "source": [
        "a[1] = a[1]/ pivot\n",
        "b[1] = b[1]/ pivot \n",
        "check_matrix(a,b)"
      ],
      "metadata": {
        "colab": {
          "base_uri": "https://localhost:8080/"
        },
        "id": "6VCP1B_M40L_",
        "outputId": "8a89ced5-78a8-4a2b-c2f5-612158093281"
      },
      "execution_count": 171,
      "outputs": [
        {
          "output_type": "stream",
          "name": "stdout",
          "text": [
            "[[ 1.   1.5 -0.5]\n",
            " [ 0.   1.  -3. ]\n",
            " [ 0.  -1.   0. ]]\n",
            "==================\n",
            "[[ 3.5]\n",
            " [-5. ]\n",
            " [-4. ]]\n"
          ]
        }
      ]
    },
    {
      "cell_type": "code",
      "source": [
        "if pivot_row[1] != 1:\n",
        "  a = change(A,pivot_row[1]+1,pivot_row[1])\n",
        "  b = change(B,pivot_row[1]+1,pivot_row[1])"
      ],
      "metadata": {
        "id": "47Ol_ACz5CuG"
      },
      "execution_count": 172,
      "outputs": []
    },
    {
      "cell_type": "code",
      "source": [
        "for i in range(2, len(row_index)):\n",
        "  pivot = a[i][1]\n",
        "  a[i] = a[i] - a[1]* pivot\n",
        "  b[i] = b[i] - b[1]* pivot\n",
        "check_matrix(a,b)"
      ],
      "metadata": {
        "colab": {
          "base_uri": "https://localhost:8080/"
        },
        "id": "RWYTueJL5ppm",
        "outputId": "c3981b01-1bb0-4709-d740-a799f17faa42"
      },
      "execution_count": 173,
      "outputs": [
        {
          "output_type": "stream",
          "name": "stdout",
          "text": [
            "[[ 1.   1.5 -0.5]\n",
            " [ 0.   1.  -3. ]\n",
            " [ 0.   0.  -3. ]]\n",
            "==================\n",
            "[[ 3.5]\n",
            " [-5. ]\n",
            " [-9. ]]\n"
          ]
        }
      ]
    }
  ]
}