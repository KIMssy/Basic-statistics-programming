{
  "nbformat": 4,
  "nbformat_minor": 0,
  "metadata": {
    "colab": {
      "private_outputs": true,
      "provenance": [],
      "collapsed_sections": [],
      "include_colab_link": true
    },
    "kernelspec": {
      "name": "python3",
      "display_name": "Python 3"
    },
    "language_info": {
      "name": "python"
    }
  },
  "cells": [
    {
      "cell_type": "markdown",
      "metadata": {
        "id": "view-in-github",
        "colab_type": "text"
      },
      "source": [
        "<a href=\"https://colab.research.google.com/github/KIMssy/Basic-statistics-programming/blob/main/beer_low_pass_filter0920.ipynb\" target=\"_parent\"><img src=\"https://colab.research.google.com/assets/colab-badge.svg\" alt=\"Open In Colab\"/></a>"
      ]
    },
    {
      "cell_type": "code",
      "execution_count": null,
      "metadata": {
        "id": "xxDxnLMumbIW"
      },
      "outputs": [],
      "source": [
        "import pandas as pd\n",
        "import numpy as np\n",
        "import matplotlib.pyplot as plt\n",
        "from numpy.lib.function_base import kaiser"
      ]
    },
    {
      "cell_type": "markdown",
      "source": [
        "참고 사이트 \n",
        "\n",
        "https://nittaku.tistory.com/114"
      ],
      "metadata": {
        "id": "AY_6inR5sxOP"
      }
    },
    {
      "cell_type": "code",
      "source": [
        "data = pd.read_csv(\"https://raw.githubusercontent.com/jamesrobertlloyd/gp-structure-search/master/data/raw/TSDL/monthly-beer-production-in-austr.csv\",sep=',' )"
      ],
      "metadata": {
        "id": "w23c02rhm5yc"
      },
      "execution_count": null,
      "outputs": []
    },
    {
      "cell_type": "code",
      "source": [
        "data.info()"
      ],
      "metadata": {
        "id": "10mc9otHoijO"
      },
      "execution_count": null,
      "outputs": []
    },
    {
      "cell_type": "code",
      "source": [
        "#읽은 CVS의 데이터 형태 분석\n",
        "data.shape"
      ],
      "metadata": {
        "id": "IzMCYh66s562"
      },
      "execution_count": null,
      "outputs": []
    },
    {
      "cell_type": "code",
      "source": [
        "print(data)"
      ],
      "metadata": {
        "id": "-PpZgehFnXpG"
      },
      "execution_count": null,
      "outputs": []
    },
    {
      "cell_type": "code",
      "source": [
        "data1 = data[\"Monthly beer production in Australia: megalitres. Includes ale and stout. Does not include beverages with alcohol percentage less than 1.15. Jan 1956 ? Aug 1995\"]"
      ],
      "metadata": {
        "id": "uedZFuTotVVF"
      },
      "execution_count": null,
      "outputs": []
    },
    {
      "cell_type": "code",
      "source": [
        "print(data1)\n",
        "#총 0-475까지 데이터 가 있음을 확인"
      ],
      "metadata": {
        "id": "mCJBkXoJtipV"
      },
      "execution_count": null,
      "outputs": []
    },
    {
      "cell_type": "code",
      "source": [
        "plt.title('Aust.beer data')\n",
        "plt.plot(data1)"
      ],
      "metadata": {
        "id": "sPOFtZON46-w"
      },
      "execution_count": null,
      "outputs": []
    },
    {
      "cell_type": "code",
      "source": [
        "#input parameters\n",
        "alpha =0.9\n",
        "n_samples = 475\n",
        "time_end = 10\n",
        "n= 10"
      ],
      "metadata": {
        "id": "lS1coTcN5nKD"
      },
      "execution_count": null,
      "outputs": []
    },
    {
      "cell_type": "code",
      "source": [
        "dt = time_end / n_samples\n",
        "time = np.arange(0, time_end, dt)\n",
        "x_meas_save = np.zeros(n_samples)\n",
        "x_esti_save = np.zeros(n_samples)\n",
        "x_avg_save = np.zeros(n_samples)\n",
        "moving _x_avg_save"
      ],
      "metadata": {
        "id": "vsuwzktKinxw"
      },
      "execution_count": null,
      "outputs": []
    },
    {
      "cell_type": "code",
      "source": [
        "def low_pass_filter(x_meas, x_esti,m_alpha):\n",
        "  x_esti = alpha * x_esti + (1 - alpha) * x_meas\n",
        "  return x_esti"
      ],
      "metadata": {
        "id": "-vcAZkZZkGsA"
      },
      "execution_count": null,
      "outputs": []
    },
    {
      "cell_type": "code",
      "source": [
        "def avg_filter(k, x_avg_k_1, x_measure):\n",
        "    alpha = (k-1)/k\n",
        "    x_avg_k = alpha * x_avg_k_1 + (1-alpha) * x_measure\n",
        "\n",
        "    return x_avg_k\n",
        "  #평균필터"
      ],
      "metadata": {
        "id": "estbs0-SnUYH"
      },
      "execution_count": null,
      "outputs": []
    },
    {
      "cell_type": "code",
      "source": [
        "def mov_avg_filter(x_n, x_meas):\n",
        "    \"\"\"Calculate average sonar using a moving average filter (batch expression).\"\"\"\n",
        "    n = len(x_n)\n",
        "    for i in range(n-1): #인덱스는 0에서부터 시작하기 때문에 n-1을 해야함\n",
        "      x_n[i] = x_n[i+1]\n",
        "      x_n[n-1] = x_meas\n",
        "      x_avg = np.mean(x_n)\n",
        "\n",
        "    return x_avg, x_n\n",
        "\n",
        "    #이동평균필터"
      ],
      "metadata": {
        "id": "SHZ4aQIzpEkG"
      },
      "execution_count": null,
      "outputs": []
    },
    {
      "cell_type": "code",
      "source": [
        "x_esti = None\n",
        "x_avg = 0\n",
        "for i in range(n_samples):\n",
        "    x_meas = data1[i]\n",
        "    k=i + 1\n",
        "    #x_meas = get_volt()\n",
        "    x_avg = avg_filter(k, x_meas, x_avg)\n",
        "    if i == 0:\n",
        "      x_esti = x_meas\n",
        "    else:\n",
        "      x_esti = low_pass_filter(x_meas, x_esti, alpha)\n",
        "\n",
        "      if i == 0:\n",
        "      x_avg, x_n = x_meas, x_meas * np.ones(n)  #x_meas * np.ones(n):배열이다 / 값이 얼마인지 보기 /x_meas * np.ones(n):의미파악 중요\n",
        "      print(x_meas * np.ones(n))\n",
        "  else:\n",
        "    x_avg, x_n = mov_avg_filter(x_n, x_meas)\n",
        "    print(x_n)\n",
        "\n",
        "    x_meas_save[i] = x_meas\n",
        "    x_esti_save[i] = x_esti\n",
        "    x_avg_save[i] = x_avg\n",
        "    moving_x_avg_save[i] = moving_x_avg"
      ],
      "metadata": {
        "id": "nMZmerZNiylH"
      },
      "execution_count": null,
      "outputs": []
    },
    {
      "cell_type": "code",
      "source": [
        "plt.plot(time, x_meas_save, 'r*', label='Measured')\n",
        "plt.plot(time, x_esti_save, 'b-', label='Low-pass Filter')\n",
        "plt.plot(time, x_esti_save, 'g-', label='average')\n",
        "plt.plot(time, moving_x_avg_save, 'y-', label='moving average')\n",
        "plt.legend(loc='upper left')\n",
        "plt.title('Measured Altitudes v.s. LPF Values')\n",
        "plt.xlabel('Time [sec]')\n",
        "plt.ylabel('Altitude [m]')\n",
        "plt.savefig('/content/png')"
      ],
      "metadata": {
        "id": "G5TFLQP3jCJu"
      },
      "execution_count": null,
      "outputs": []
    }
  ]
}